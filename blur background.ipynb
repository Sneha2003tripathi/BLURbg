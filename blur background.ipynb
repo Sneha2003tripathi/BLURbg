{
 "cells": [
  {
   "cell_type": "code",
   "execution_count": 1,
   "id": "9ff3a5d8",
   "metadata": {},
   "outputs": [],
   "source": [
    "import cv2"
   ]
  },
  {
   "cell_type": "code",
   "execution_count": 2,
   "id": "ea03a5bd",
   "metadata": {},
   "outputs": [],
   "source": [
    "face_cascade = cv2.CascadeClassifier(cv2.data.haarcascades + 'haarcascade_frontalface_default.xml')\n",
    "video_capture = cv2.VideoCapture(0)  "
   ]
  },
  {
   "cell_type": "code",
   "execution_count": 3,
   "id": "7b356681",
   "metadata": {},
   "outputs": [],
   "source": [
    "while True:\n",
    "    ret, frame = video_capture.read()\n",
    "    if not ret:\n",
    "        break\n",
    "\n",
    "    gray = cv2.cvtColor(frame, cv2.COLOR_BGR2GRAY)\n",
    "    faces = face_cascade.detectMultiScale(gray, scaleFactor=1.1, minNeighbors=5, minSize=(30, 30))\n",
    "    blur = cv2.GaussianBlur(frame, (99, 99), 0)\n",
    "\n",
    "    for (x, y, w, h) in faces:\n",
    "        \n",
    "        left = frame[:, 0:x]  \n",
    "        blur_roi = blur[:, 0:x] \n",
    "        frame[:, 0:x] = blur_roi\n",
    "        \n",
    "        \n",
    "        right = frame[:, x+w:]  \n",
    "        blur_roi = blur[:, x+w:] \n",
    "        frame[:, x+w:] = blur_roi\n",
    "        \n",
    "        upper = frame[0:y, :]  \n",
    "        blur_roi = blur[0:y, :] \n",
    "        frame[0:y, :] = blur_roi\n",
    "        \n",
    "        lower = frame[y+h:, :]  \n",
    "        blur_roi = blur[y+h:, :] \n",
    "        frame[y+h:, :] = blur_roi\n",
    "\n",
    "        cv2.rectangle(frame, (x, y), (x+w, y+h), (0, 255, 0), 2)\n",
    "    cv2.imshow('Face Detection with Background Blur', frame)\n",
    "    if cv2.waitKey(1) & 0xFF == ord('q'):\n",
    "        break\n",
    "\n",
    "video_capture.release()\n",
    "cv2.destroyAllWindows()\n",
    "video_capture.release()\n",
    " \n",
    " "
   ]
  },
  {
   "cell_type": "code",
   "execution_count": null,
   "id": "2cf642b4",
   "metadata": {},
   "outputs": [],
   "source": []
  }
 ],
 "metadata": {
  "kernelspec": {
   "display_name": "Python 3 (ipykernel)",
   "language": "python",
   "name": "python3"
  },
  "language_info": {
   "codemirror_mode": {
    "name": "ipython",
    "version": 3
   },
   "file_extension": ".py",
   "mimetype": "text/x-python",
   "name": "python",
   "nbconvert_exporter": "python",
   "pygments_lexer": "ipython3",
   "version": "3.10.9"
  }
 },
 "nbformat": 4,
 "nbformat_minor": 5
}
